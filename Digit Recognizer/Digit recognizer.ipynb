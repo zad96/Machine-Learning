{
 "cells": [
  {
   "cell_type": "code",
   "execution_count": 1,
   "metadata": {},
   "outputs": [
    {
     "name": "stderr",
     "output_type": "stream",
     "text": [
      "Using TensorFlow backend.\n"
     ]
    }
   ],
   "source": [
    "from keras.models import Sequential\n",
    "from keras.layers import Convolution2D\n",
    "from keras.layers import MaxPooling2D\n",
    "from keras.layers import Flatten\n",
    "from keras.layers import Dense , Dropout\n",
    "from keras.utils.np_utils import to_categorical\n",
    "from keras.preprocessing.image import ImageDataGenerator\n",
    "from sklearn.utils import shuffle\n",
    "from sklearn.model_selection import train_test_split\n",
    "import pandas as pd\n",
    "import numpy as np\n",
    "import matplotlib.pyplot as plt\n",
    "import matplotlib.image as mpimg\n",
    "import seaborn as sns\n",
    "from sklearn.metrics import confusion_matrix\n",
    "import itertools\n",
    "%matplotlib inline"
   ]
  },
  {
   "cell_type": "code",
   "execution_count": 2,
   "metadata": {},
   "outputs": [],
   "source": [
    "train_num = pd.read_csv(\"train.csv\")\n",
    "test_num = pd.read_csv(\"test.csv\")"
   ]
  },
  {
   "cell_type": "code",
   "execution_count": 3,
   "metadata": {},
   "outputs": [],
   "source": [
    "train_data = shuffle(train_num.values)\n",
    "train_data.shape\n",
    "Y_train = train_data[:,:1]\n",
    "X_train = train_data[:,1:]/255.0\n",
    "test = test_num/255.0"
   ]
  },
  {
   "cell_type": "code",
   "execution_count": 4,
   "metadata": {},
   "outputs": [],
   "source": [
    "X_train = X_train.reshape(-1,28,28,1)\n",
    "test = np.asarray(test).reshape(-1,28,28,1)"
   ]
  },
  {
   "cell_type": "code",
   "execution_count": 5,
   "metadata": {},
   "outputs": [],
   "source": [
    "Y_train = to_categorical(Y_train, num_classes = 10)"
   ]
  },
  {
   "cell_type": "code",
   "execution_count": 6,
   "metadata": {},
   "outputs": [],
   "source": [
    "X_train, X_val, Y_train, Y_val = train_test_split(X_train, Y_train, test_size = 0.1, random_state=2)"
   ]
  },
  {
   "cell_type": "code",
   "execution_count": null,
   "metadata": {},
   "outputs": [],
   "source": []
  },
  {
   "cell_type": "code",
   "execution_count": 13,
   "metadata": {},
   "outputs": [
    {
     "name": "stderr",
     "output_type": "stream",
     "text": [
      "/home/zad/anaconda3/envs/tf/lib/python3.6/site-packages/ipykernel_launcher.py:18: UserWarning: Update your `Dense` call to the Keras 2 API: `Dense(activation=\"relu\", units=256)`\n",
      "/home/zad/anaconda3/envs/tf/lib/python3.6/site-packages/ipykernel_launcher.py:19: UserWarning: Update your `Dense` call to the Keras 2 API: `Dense(activation=\"sigmoid\", units=10)`\n"
     ]
    }
   ],
   "source": [
    "model = Sequential()\n",
    "\n",
    "# Step 1 - Convolution\n",
    "model.add(Convolution2D(filters = 32,kernel_size = (3, 3), input_shape = (28,28,1), activation = 'relu'))\n",
    "model.add(MaxPooling2D(pool_size = (2, 2)))\n",
    "model.add(Dropout(0.5))\n",
    "\n",
    "# Adding a second convolutional layer\n",
    "model.add(Convolution2D(filters = 64,kernel_size = (3, 3), activation = 'relu'))\n",
    "model.add(MaxPooling2D(pool_size = (2, 2)))\n",
    "model.add(Dropout(0.5))\n",
    "\n",
    "# Step 3 - Flattening\n",
    "model.add(Flatten())\n",
    "\n",
    "\n",
    "# Step 4 - Full connection\n",
    "model.add(Dense(output_dim = 256, activation = 'relu'))\n",
    "model.add(Dense(output_dim = 10, activation = 'sigmoid'))\n",
    "\n",
    "# Compiling the CNN\n",
    "model.compile(optimizer = 'adam', loss = 'categorical_crossentropy', metrics = ['accuracy'])\n"
   ]
  },
  {
   "cell_type": "code",
   "execution_count": 14,
   "metadata": {},
   "outputs": [],
   "source": [
    "datagen = ImageDataGenerator(\n",
    "        featurewise_center=False,  # set input mean to 0 over the dataset\n",
    "        samplewise_center=False,  # set each sample mean to 0\n",
    "        featurewise_std_normalization=False,  # divide inputs by std of the dataset\n",
    "        samplewise_std_normalization=False,  # divide each input by its std\n",
    "        zca_whitening=False,  # apply ZCA whitening\n",
    "        rotation_range=10,  # randomly rotate images in the range (degrees, 0 to 180)\n",
    "        zoom_range = 0.1, # Randomly zoom image \n",
    "        width_shift_range=0.1,  # randomly shift images horizontally (fraction of total width)\n",
    "        height_shift_range=0.1,  # randomly shift images vertically (fraction of total height)\n",
    "        horizontal_flip=False,  # randomly flip images\n",
    "        vertical_flip=False)  # randomly flip images\n",
    "\n",
    "\n",
    "datagen.fit(X_train)"
   ]
  },
  {
   "cell_type": "code",
   "execution_count": 15,
   "metadata": {
    "scrolled": true
   },
   "outputs": [
    {
     "name": "stdout",
     "output_type": "stream",
     "text": [
      "Epoch 1/30\n",
      " - 7s - loss: 0.6256 - acc: 0.7962 - val_loss: 0.1170 - val_acc: 0.9690\n",
      "Epoch 2/30\n",
      " - 7s - loss: 0.2362 - acc: 0.9260 - val_loss: 0.0664 - val_acc: 0.9814\n",
      "Epoch 3/30\n",
      " - 7s - loss: 0.1736 - acc: 0.9451 - val_loss: 0.0513 - val_acc: 0.9840\n",
      "Epoch 4/30\n",
      " - 7s - loss: 0.1473 - acc: 0.9541 - val_loss: 0.0513 - val_acc: 0.9852\n",
      "Epoch 5/30\n",
      " - 7s - loss: 0.1291 - acc: 0.9598 - val_loss: 0.0462 - val_acc: 0.9867\n",
      "Epoch 6/30\n",
      " - 7s - loss: 0.1143 - acc: 0.9640 - val_loss: 0.0425 - val_acc: 0.9876\n",
      "Epoch 7/30\n",
      " - 7s - loss: 0.1040 - acc: 0.9671 - val_loss: 0.0385 - val_acc: 0.9895\n",
      "Epoch 8/30\n",
      " - 7s - loss: 0.0994 - acc: 0.9693 - val_loss: 0.0390 - val_acc: 0.9898\n",
      "Epoch 9/30\n",
      " - 7s - loss: 0.0949 - acc: 0.9710 - val_loss: 0.0385 - val_acc: 0.9886\n",
      "Epoch 10/30\n",
      " - 7s - loss: 0.0914 - acc: 0.9718 - val_loss: 0.0360 - val_acc: 0.9907\n",
      "Epoch 11/30\n",
      " - 7s - loss: 0.0872 - acc: 0.9719 - val_loss: 0.0322 - val_acc: 0.9921\n",
      "Epoch 12/30\n",
      " - 7s - loss: 0.0823 - acc: 0.9736 - val_loss: 0.0401 - val_acc: 0.9888\n",
      "Epoch 13/30\n",
      " - 7s - loss: 0.0794 - acc: 0.9747 - val_loss: 0.0372 - val_acc: 0.9905\n",
      "Epoch 14/30\n",
      " - 7s - loss: 0.0751 - acc: 0.9763 - val_loss: 0.0333 - val_acc: 0.9910\n",
      "Epoch 15/30\n",
      " - 7s - loss: 0.0754 - acc: 0.9764 - val_loss: 0.0308 - val_acc: 0.9921\n",
      "Epoch 16/30\n",
      " - 7s - loss: 0.0714 - acc: 0.9778 - val_loss: 0.0318 - val_acc: 0.9910\n",
      "Epoch 17/30\n",
      " - 7s - loss: 0.0724 - acc: 0.9775 - val_loss: 0.0354 - val_acc: 0.9902\n",
      "Epoch 18/30\n",
      " - 7s - loss: 0.0707 - acc: 0.9784 - val_loss: 0.0319 - val_acc: 0.9921\n",
      "Epoch 19/30\n",
      " - 7s - loss: 0.0684 - acc: 0.9789 - val_loss: 0.0345 - val_acc: 0.9912\n",
      "Epoch 20/30\n",
      " - 7s - loss: 0.0662 - acc: 0.9795 - val_loss: 0.0304 - val_acc: 0.9924\n",
      "Epoch 21/30\n",
      " - 7s - loss: 0.0665 - acc: 0.9788 - val_loss: 0.0307 - val_acc: 0.9936\n",
      "Epoch 22/30\n",
      " - 7s - loss: 0.0647 - acc: 0.9792 - val_loss: 0.0309 - val_acc: 0.9929\n",
      "Epoch 23/30\n",
      " - 8s - loss: 0.0630 - acc: 0.9804 - val_loss: 0.0295 - val_acc: 0.9924\n",
      "Epoch 24/30\n",
      " - 7s - loss: 0.0652 - acc: 0.9792 - val_loss: 0.0309 - val_acc: 0.9919\n",
      "Epoch 25/30\n",
      " - 8s - loss: 0.0646 - acc: 0.9800 - val_loss: 0.0304 - val_acc: 0.9919\n",
      "Epoch 26/30\n",
      " - 7s - loss: 0.0621 - acc: 0.9804 - val_loss: 0.0314 - val_acc: 0.9914\n",
      "Epoch 27/30\n",
      " - 7s - loss: 0.0588 - acc: 0.9814 - val_loss: 0.0295 - val_acc: 0.9921\n",
      "Epoch 28/30\n",
      " - 8s - loss: 0.0599 - acc: 0.9819 - val_loss: 0.0317 - val_acc: 0.9926\n",
      "Epoch 29/30\n",
      " - 7s - loss: 0.0546 - acc: 0.9828 - val_loss: 0.0286 - val_acc: 0.9933\n",
      "Epoch 30/30\n",
      " - 7s - loss: 0.0570 - acc: 0.9820 - val_loss: 0.0295 - val_acc: 0.9936\n"
     ]
    }
   ],
   "source": [
    "epochs = 30\n",
    "batch_size = 64\n",
    "history = model.fit_generator(datagen.flow(X_train,Y_train, batch_size=batch_size),epochs = epochs,\n",
    "                              validation_data = (X_val, Y_val), verbose = 2)"
   ]
  },
  {
   "cell_type": "code",
   "execution_count": 16,
   "metadata": {},
   "outputs": [
    {
     "data": {
      "image/png": "[encoded data removed]",
      "text/plain": [
       "<Figure size 432x288 with 2 Axes>"
      ]
     },
     "metadata": {},
     "output_type": "display_data"
    }
   ],
   "source": [
    "# Look at confusion matrix \n",
    "\n",
    "def plot_confusion_matrix(cm, classes,\n",
    "                          normalize=False,\n",
    "                          title='Confusion matrix',\n",
    "                          cmap=plt.cm.Blues):\n",
    "    \"\"\"\n",
    "    This function prints and plots the confusion matrix.\n",
    "    Normalization can be applied by setting `normalize=True`.\n",
    "    \"\"\"\n",
    "    plt.imshow(cm, interpolation='nearest', cmap=cmap)\n",
    "    plt.title(title)\n",
    "    plt.colorbar()\n",
    "    tick_marks = np.arange(len(classes))\n",
    "    plt.xticks(tick_marks, classes, rotation=45)\n",
    "    plt.yticks(tick_marks, classes)\n",
    "\n",
    "    if normalize:\n",
    "        cm = cm.astype('float') / cm.sum(axis=1)[:, np.newaxis]\n",
    "\n",
    "    thresh = cm.max() / 2.\n",
    "    for i, j in itertools.product(range(cm.shape[0]), range(cm.shape[1])):\n",
    "        plt.text(j, i, cm[i, j],\n",
    "                 horizontalalignment=\"center\",\n",
    "                 color=\"white\" if cm[i, j] > thresh else \"black\")\n",
    "\n",
    "    plt.tight_layout()\n",
    "    plt.ylabel('True label')\n",
    "    plt.xlabel('Predicted label')\n",
    "\n",
    "# Predict the values from the validation dataset\n",
    "Y_pred = model.predict(X_val)\n",
    "# Convert predictions classes to one hot vectors \n",
    "Y_pred_classes = np.argmax(Y_pred,axis = 1) \n",
    "# Convert validation observations to one hot vectors\n",
    "Y_true = np.argmax(Y_val,axis = 1) \n",
    "# compute the confusion matrix\n",
    "confusion_mtx = confusion_matrix(Y_true, Y_pred_classes) \n",
    "# plot the confusion matrix\n",
    "plot_confusion_matrix(confusion_mtx, classes = range(10)) \n"
   ]
  },
  {
   "cell_type": "code",
   "execution_count": 17,
   "metadata": {},
   "outputs": [],
   "source": [
    "# predict results\n",
    "results = model.predict(test)\n",
    "\n",
    "# select the indix with the maximum probability\n",
    "results = np.argmax(results,axis = 1)\n",
    "\n",
    "results = pd.Series(results,name=\"Label\")"
   ]
  },
  {
   "cell_type": "code",
   "execution_count": 18,
   "metadata": {},
   "outputs": [],
   "source": [
    "submission = pd.concat([pd.Series(range(1,28001),name = \"ImageId\"),results],axis = 1)\n",
    "\n",
    "submission.to_csv(\"KerasV3.csv\",index=False)"
   ]
  },
  {
   "cell_type": "code",
   "execution_count": null,
   "metadata": {},
   "outputs": [],
   "source": []
  }
 ],
 "metadata": {
  "kernelspec": {
   "display_name": "Python 3",
   "language": "python",
   "name": "python3"
  },
  "language_info": {
   "codemirror_mode": {
    "name": "ipython",
    "version": 3
   },
   "file_extension": ".py",
   "mimetype": "text/x-python",
   "name": "python",
   "nbconvert_exporter": "python",
   "pygments_lexer": "ipython3",
   "version": "3.6.4"
  }
 },
 "nbformat": 4,
 "nbformat_minor": 2
}
