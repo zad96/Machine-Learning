{
 "cells": [
  {
   "cell_type": "code",
   "execution_count": 1,
   "metadata": {},
   "outputs": [
    {
     "name": "stderr",
     "output_type": "stream",
     "text": [
      "Using TensorFlow backend.\n"
     ]
    }
   ],
   "source": [
    "# Digit recognizer ussing Keras\n",
    "\n",
    "from keras.models import Sequential\n",
    "from keras.layers import Convolution2D\n",
    "from keras.layers import MaxPooling2D\n",
    "from keras.layers import Flatten\n",
    "from keras.layers import Dense , Dropout\n",
    "from keras.utils.np_utils import to_categorical\n",
    "from keras.preprocessing.image import ImageDataGenerator\n",
    "from sklearn.utils import shuffle\n",
    "from sklearn.model_selection import train_test_split\n",
    "import pandas as pd\n",
    "import numpy as np\n",
    "import matplotlib.pyplot as plt\n",
    "import matplotlib.image as mpimg\n",
    "import seaborn as sns\n",
    "from sklearn.metrics import confusion_matrix\n",
    "import itertools\n",
    "%matplotlib inline"
   ]
  },
  {
   "cell_type": "code",
   "execution_count": 2,
   "metadata": {},
   "outputs": [],
   "source": [
    "train_num = pd.read_csv(\"train.csv\")\n",
    "test_num = pd.read_csv(\"test.csv\")"
   ]
  },
  {
   "cell_type": "code",
   "execution_count": 3,
   "metadata": {},
   "outputs": [],
   "source": [
    "train_data = shuffle(train_num.values)\n",
    "train_data.shape\n",
    "Y_train = train_data[:,:1]\n",
    "X_train = train_data[:,1:]/255.0\n",
    "test = test_num/255.0"
   ]
  },
  {
   "cell_type": "code",
   "execution_count": 4,
   "metadata": {},
   "outputs": [],
   "source": [
    "X_train = X_train.reshape(-1,28,28,1)\n",
    "test = np.asarray(test).reshape(-1,28,28,1)"
   ]
  },
  {
   "cell_type": "code",
   "execution_count": 5,
   "metadata": {},
   "outputs": [],
   "source": [
    "Y_train = to_categorical(Y_train, num_classes = 10)"
   ]
  },
  {
   "cell_type": "code",
   "execution_count": 6,
   "metadata": {},
   "outputs": [],
   "source": [
    "X_train, X_val, Y_train, Y_val = train_test_split(X_train, Y_train, test_size = 0.1, random_state=2)"
   ]
  },
  {
   "cell_type": "code",
   "execution_count": 7,
   "metadata": {},
   "outputs": [
    {
     "name": "stderr",
     "output_type": "stream",
     "text": [
      "/home/zad/anaconda3/envs/tf/lib/python3.6/site-packages/ipykernel_launcher.py:18: UserWarning: Update your `Dense` call to the Keras 2 API: `Dense(activation=\"relu\", units=256)`\n",
      "/home/zad/anaconda3/envs/tf/lib/python3.6/site-packages/ipykernel_launcher.py:19: UserWarning: Update your `Dense` call to the Keras 2 API: `Dense(activation=\"sigmoid\", units=10)`\n"
     ]
    }
   ],
   "source": [
    "model = Sequential()\n",
    "\n",
    "# Step 1 - Convolution\n",
    "model.add(Convolution2D(filters = 32,kernel_size = (3, 3), input_shape = (28,28,1), activation = 'relu'))\n",
    "model.add(MaxPooling2D(pool_size = (2, 2)))\n",
    "model.add(Dropout(0.5))\n",
    "\n",
    "# Adding a second convolutional layer\n",
    "model.add(Convolution2D(filters = 64,kernel_size = (3, 3), activation = 'relu'))\n",
    "model.add(MaxPooling2D(pool_size = (2, 2)))\n",
    "model.add(Dropout(0.5))\n",
    "\n",
    "# Step 3 - Flattening\n",
    "model.add(Flatten())\n",
    "\n",
    "\n",
    "# Step 4 - Full connection\n",
    "model.add(Dense(output_dim = 256, activation = 'relu'))\n",
    "model.add(Dense(output_dim = 10, activation = 'sigmoid'))\n",
    "\n",
    "# Compiling the CNN\n",
    "model.compile(optimizer = 'adam', loss = 'categorical_crossentropy', metrics = ['accuracy'])\n"
   ]
  },
  {
   "cell_type": "code",
   "execution_count": 8,
   "metadata": {},
   "outputs": [],
   "source": [
    "    datagen = ImageDataGenerator(\n",
    "        featurewise_center=False,  # set input mean to 0 over the dataset\n",
    "        samplewise_center=False,  # set each sample mean to 0\n",
    "        featurewise_std_normalization=False,  # divide inputs by std of the dataset\n",
    "        samplewise_std_normalization=False,  # divide each input by its std\n",
    "        zca_whitening=False, \n",
    "        rotation_range=10,  # randomly rotate images in the range (degrees, 0 to 180)\n",
    "        zoom_range = 0.1, # Randomly zoom image \n",
    "        width_shift_range=0.1,  # randomly shift images horizontally\n",
    "        height_shift_range=0.1,  # randomly shift images vertically\n",
    "        horizontal_flip=False, \n",
    "        vertical_flip=False)\n",
    "\n",
    "\n",
    "datagen.fit(X_train)"
   ]
  },
  {
   "cell_type": "code",
   "execution_count": 9,
   "metadata": {
    "scrolled": true
   },
   "outputs": [
    {
     "name": "stdout",
     "output_type": "stream",
     "text": [
      "Epoch 1/30\n",
      " - 26s - loss: 0.6314 - acc: 0.7963 - val_loss: 0.1116 - val_acc: 0.9681\n",
      "Epoch 2/30\n",
      " - 6s - loss: 0.2426 - acc: 0.9235 - val_loss: 0.0686 - val_acc: 0.9800\n",
      "Epoch 3/30\n",
      " - 6s - loss: 0.1781 - acc: 0.9438 - val_loss: 0.0575 - val_acc: 0.9840\n",
      "Epoch 4/30\n",
      " - 6s - loss: 0.1541 - acc: 0.9514 - val_loss: 0.0513 - val_acc: 0.9869\n",
      "Epoch 5/30\n",
      " - 6s - loss: 0.1276 - acc: 0.9597 - val_loss: 0.0454 - val_acc: 0.9869\n",
      "Epoch 6/30\n",
      " - 6s - loss: 0.1205 - acc: 0.9621 - val_loss: 0.0451 - val_acc: 0.9871\n",
      "Epoch 7/30\n",
      " - 6s - loss: 0.1087 - acc: 0.9662 - val_loss: 0.0389 - val_acc: 0.9895\n",
      "Epoch 8/30\n",
      " - 6s - loss: 0.1030 - acc: 0.9673 - val_loss: 0.0375 - val_acc: 0.9890\n",
      "Epoch 9/30\n",
      " - 6s - loss: 0.0974 - acc: 0.9691 - val_loss: 0.0403 - val_acc: 0.9886\n",
      "Epoch 10/30\n",
      " - 7s - loss: 0.0905 - acc: 0.9715 - val_loss: 0.0351 - val_acc: 0.9888\n",
      "Epoch 11/30\n",
      " - 7s - loss: 0.0881 - acc: 0.9723 - val_loss: 0.0393 - val_acc: 0.9895\n",
      "Epoch 12/30\n",
      " - 7s - loss: 0.0803 - acc: 0.9752 - val_loss: 0.0395 - val_acc: 0.9890\n",
      "Epoch 13/30\n",
      " - 6s - loss: 0.0806 - acc: 0.9751 - val_loss: 0.0412 - val_acc: 0.9888\n",
      "Epoch 14/30\n",
      " - 7s - loss: 0.0776 - acc: 0.9761 - val_loss: 0.0322 - val_acc: 0.9893\n",
      "Epoch 15/30\n",
      " - 6s - loss: 0.0769 - acc: 0.9750 - val_loss: 0.0318 - val_acc: 0.9902\n",
      "Epoch 16/30\n",
      " - 6s - loss: 0.0748 - acc: 0.9763 - val_loss: 0.0374 - val_acc: 0.9900\n",
      "Epoch 17/30\n",
      " - 7s - loss: 0.0742 - acc: 0.9764 - val_loss: 0.0317 - val_acc: 0.9902\n",
      "Epoch 18/30\n",
      " - 7s - loss: 0.0688 - acc: 0.9780 - val_loss: 0.0361 - val_acc: 0.9900\n",
      "Epoch 19/30\n",
      " - 7s - loss: 0.0674 - acc: 0.9783 - val_loss: 0.0304 - val_acc: 0.9921\n",
      "Epoch 20/30\n",
      " - 7s - loss: 0.0672 - acc: 0.9786 - val_loss: 0.0357 - val_acc: 0.9905\n",
      "Epoch 21/30\n",
      " - 7s - loss: 0.0671 - acc: 0.9795 - val_loss: 0.0342 - val_acc: 0.9898\n",
      "Epoch 22/30\n",
      " - 7s - loss: 0.0648 - acc: 0.9801 - val_loss: 0.0360 - val_acc: 0.9890\n",
      "Epoch 23/30\n",
      " - 7s - loss: 0.0633 - acc: 0.9805 - val_loss: 0.0385 - val_acc: 0.9890\n",
      "Epoch 24/30\n",
      " - 7s - loss: 0.0626 - acc: 0.9801 - val_loss: 0.0335 - val_acc: 0.9912\n",
      "Epoch 25/30\n",
      " - 6s - loss: 0.0624 - acc: 0.9807 - val_loss: 0.0352 - val_acc: 0.9898\n",
      "Epoch 26/30\n",
      " - 7s - loss: 0.0616 - acc: 0.9803 - val_loss: 0.0299 - val_acc: 0.9917\n",
      "Epoch 27/30\n",
      " - 7s - loss: 0.0589 - acc: 0.9812 - val_loss: 0.0314 - val_acc: 0.9898\n",
      "Epoch 28/30\n",
      " - 7s - loss: 0.0618 - acc: 0.9801 - val_loss: 0.0317 - val_acc: 0.9898\n",
      "Epoch 29/30\n",
      " - 6s - loss: 0.0563 - acc: 0.9822 - val_loss: 0.0317 - val_acc: 0.9907\n",
      "Epoch 30/30\n",
      " - 6s - loss: 0.0572 - acc: 0.9825 - val_loss: 0.0304 - val_acc: 0.9910\n"
     ]
    }
   ],
   "source": [
    "epochs = 30\n",
    "batch_size = 64\n",
    "history = model.fit_generator(datagen.flow(X_train,Y_train, batch_size=batch_size),epochs = epochs,\n",
    "                              validation_data = (X_val, Y_val), verbose = 2)"
   ]
  },
  {
   "cell_type": "code",
   "execution_count": 10,
   "metadata": {},
   "outputs": [
    {
     "data": {
      "image/png": "[encoded data removed]",
      "text/plain": [
       "<Figure size 432x288 with 2 Axes>"
      ]
     },
     "metadata": {},
     "output_type": "display_data"
    }
   ],
   "source": [
    "# Look at confusion matrix \n",
    "\n",
    "def plot_confusion_matrix(cm, classes,\n",
    "                          normalize=False,\n",
    "                          title='Confusion matrix',\n",
    "                          cmap=plt.cm.Blues):\n",
    "    \"\"\"\n",
    "    This function prints and plots the confusion matrix.\n",
    "    Normalization can be applied by setting `normalize=True`.\n",
    "    \"\"\"\n",
    "    plt.imshow(cm, interpolation='nearest', cmap=cmap)\n",
    "    plt.title(title)\n",
    "    plt.colorbar()\n",
    "    tick_marks = np.arange(len(classes))\n",
    "    plt.xticks(tick_marks, classes, rotation=45)\n",
    "    plt.yticks(tick_marks, classes)\n",
    "\n",
    "    if normalize:\n",
    "        cm = cm.astype('float') / cm.sum(axis=1)[:, np.newaxis]\n",
    "\n",
    "    thresh = cm.max() / 2.\n",
    "    for i, j in itertools.product(range(cm.shape[0]), range(cm.shape[1])):\n",
    "        plt.text(j, i, cm[i, j],\n",
    "                 horizontalalignment=\"center\",\n",
    "                 color=\"white\" if cm[i, j] > thresh else \"black\")\n",
    "\n",
    "    plt.tight_layout()\n",
    "    plt.ylabel('True label')\n",
    "    plt.xlabel('Predicted label')\n",
    "\n",
    "# Predict the values from the validation dataset\n",
    "Y_pred = model.predict(X_val)\n",
    "# Convert predictions classes to one hot vectors \n",
    "Y_pred_classes = np.argmax(Y_pred,axis = 1) \n",
    "# Convert validation observations to one hot vectors\n",
    "Y_true = np.argmax(Y_val,axis = 1) \n",
    "# compute the confusion matrix\n",
    "confusion_mtx = confusion_matrix(Y_true, Y_pred_classes) \n",
    "# plot the confusion matrix\n",
    "plot_confusion_matrix(confusion_mtx, classes = range(10)) \n"
   ]
  },
  {
   "cell_type": "code",
   "execution_count": 11,
   "metadata": {},
   "outputs": [],
   "source": [
    "# predict results\n",
    "results = model.predict(test)\n",
    "\n",
    "# select the indix with the maximum probability\n",
    "results = np.argmax(results,axis = 1)\n",
    "\n",
    "results = pd.Series(results,name=\"Label\")"
   ]
  },
  {
   "cell_type": "code",
   "execution_count": 12,
   "metadata": {},
   "outputs": [],
   "source": [
    "submission = pd.concat([pd.Series(range(1,28001),name = \"ImageId\"),results],axis = 1)\n",
    "\n",
    "submission.to_csv(\"KerasCNN.csv\",index=False)"
   ]
  },
  {
   "cell_type": "code",
   "execution_count": null,
   "metadata": {},
   "outputs": [],
   "source": []
  }
 ],
 "metadata": {
  "kernelspec": {
   "display_name": "Python 3",
   "language": "python",
   "name": "python3"
  },
  "language_info": {
   "codemirror_mode": {
    "name": "ipython",
    "version": 3
   },
   "file_extension": ".py",
   "mimetype": "text/x-python",
   "name": "python",
   "nbconvert_exporter": "python",
   "pygments_lexer": "ipython3",
   "version": "3.6.4"
  }
 },
 "nbformat": 4,
 "nbformat_minor": 2
}
